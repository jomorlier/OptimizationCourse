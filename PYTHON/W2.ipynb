{
  "nbformat": 4,
  "nbformat_minor": 0,
  "metadata": {
    "colab": {
      "provenance": []
    },
    "kernelspec": {
      "name": "python3",
      "display_name": "Python 3"
    },
    "language_info": {
      "name": "python"
    }
  },
  "cells": [
    {
      "cell_type": "code",
      "execution_count": 1,
      "metadata": {
        "colab": {
          "base_uri": "https://localhost:8080/"
        },
        "id": "Cnnil2FMh_xv",
        "outputId": "bb521678-1028-460b-f85a-972399ae4d79"
      },
      "outputs": [
        {
          "output_type": "stream",
          "name": "stdout",
          "text": [
            "Problem 1:\n",
            "Gradient dJ:\n",
            "Matrix([[6*x1**2 + 6*x1*x2], [3*x1**2 + 6*x2 - 24]])\n",
            "Hessian H:\n",
            "Matrix([[12*x1 + 6*x2, 6*x1], [6*x1, 6]])\n",
            "\n",
            "Problem 2:\n",
            "Gradient dJ:\n",
            "Matrix([[4*x1*(x1**2 + x2**2 - 1)], [4*x2*(x1**2 + 2*x2**2 - 2)]])\n",
            "Hessian H:\n",
            "Matrix([[12*x1**2 + 4*x2**2 - 4, 8*x1*x2], [8*x1*x2, 4*x1**2 + 24*x2**2 - 8]])\n",
            "\n",
            "Problem 3:\n",
            "Gradient dJ:\n",
            "Matrix([[16*x1**3 - 4*x1 + x2**2], [2*x1*x2]])\n",
            "Hessian H:\n",
            "Matrix([[48*x1**2 - 4, 2*x2], [2*x2, 2*x1]])\n",
            "\n",
            "Problem 4:\n",
            "Gradient dJ:\n",
            "Matrix([[-2*x1*(x1 + x2)/(x1**2 + x2**2 + 1)**2 + 1/(x1**2 + x2**2 + 1)], [-2*x2*(x1 + x2)/(x1**2 + x2**2 + 1)**2 + 1/(x1**2 + x2**2 + 1)]])\n",
            "Hessian H:\n",
            "Matrix([[2*(4*x1**2*(x1 + x2) - (3*x1 + x2)*(x1**2 + x2**2 + 1))/(x1**2 + x2**2 + 1)**3, 2*(x1 + x2)*(-x1**2 + 4*x1*x2 - x2**2 - 1)/(x1**2 + x2**2 + 1)**3], [2*(x1 + x2)*(-x1**2 + 4*x1*x2 - x2**2 - 1)/(x1**2 + x2**2 + 1)**3, 2*(4*x2**2*(x1 + x2) - (x1 + 3*x2)*(x1**2 + x2**2 + 1))/(x1**2 + x2**2 + 1)**3]])\n"
          ]
        }
      ],
      "source": [
        "# Worksheet 2 Gradient and Hessian\n",
        "# Python equivalent of MATLAB code\n",
        "\n",
        "import numpy as np\n",
        "import sympy as sp\n",
        "import matplotlib.pyplot as plt\n",
        "from sympy import symbols, diff, simplify\n",
        "\n",
        "# Clear all (equivalent to MATLAB's clear all; close all;)\n",
        "plt.close('all')\n",
        "\n",
        "# Problem 1\n",
        "print(\"Problem 1:\")\n",
        "x1, x2 = symbols('x1 x2')\n",
        "J = 2*x1**3 + 3*x2**2 + 3*x2*x1**2 - 24*x2\n",
        "dJdx1 = diff(J, x1)\n",
        "dJdx2 = diff(J, x2)\n",
        "dJ = sp.Matrix([dJdx1, dJdx2])\n",
        "print(\"Gradient dJ:\")\n",
        "print(dJ)\n",
        "\n",
        "Hdx1 = diff(dJ, x1)\n",
        "Hdx2 = diff(dJ, x2)\n",
        "H = sp.Matrix.hstack(Hdx1, Hdx2)\n",
        "print(\"Hessian H:\")\n",
        "print(H)\n",
        "\n",
        "# Problem 2\n",
        "print(\"\\nProblem 2:\")\n",
        "x1, x2 = symbols('x1 x2')\n",
        "J = (x1**2 + x2**2 - 1)**2 + (x2**2 - 1)**2\n",
        "dJdx1 = diff(J, x1)\n",
        "dJdx2 = diff(J, x2)\n",
        "dJ = simplify(sp.Matrix([dJdx1, dJdx2]))\n",
        "print(\"Gradient dJ:\")\n",
        "print(dJ)\n",
        "\n",
        "Hdx1 = diff(dJ, x1)\n",
        "Hdx2 = diff(dJ, x2)\n",
        "H = sp.Matrix.hstack(Hdx1, Hdx2)\n",
        "print(\"Hessian H:\")\n",
        "print(H)\n",
        "\n",
        "# Problem 3\n",
        "print(\"\\nProblem 3:\")\n",
        "x1, x2 = symbols('x1 x2')\n",
        "J = -2*x1**2 + x1*x2**2 + 4*x1**4\n",
        "dJdx1 = diff(J, x1)\n",
        "dJdx2 = diff(J, x2)\n",
        "dJ = sp.Matrix([dJdx1, dJdx2])\n",
        "print(\"Gradient dJ:\")\n",
        "print(dJ)\n",
        "\n",
        "Hdx1 = diff(dJ, x1)\n",
        "Hdx2 = diff(dJ, x2)\n",
        "H = sp.Matrix.hstack(Hdx1, Hdx2)\n",
        "print(\"Hessian H:\")\n",
        "print(H)\n",
        "\n",
        "# Problem 4\n",
        "print(\"\\nProblem 4:\")\n",
        "x1, x2 = symbols('x1 x2')\n",
        "J = (x1 + x2)/(x1**2 + x2**2 + 1)\n",
        "dJdx1 = diff(J, x1)\n",
        "dJdx2 = diff(J, x2)\n",
        "dJ = sp.Matrix([dJdx1, dJdx2])\n",
        "print(\"Gradient dJ:\")\n",
        "print(dJ)\n",
        "\n",
        "Hdx1 = diff(dJ, x1)\n",
        "Hdx2 = diff(dJ, x2)\n",
        "H = simplify(sp.Matrix.hstack(Hdx1, Hdx2))\n",
        "print(\"Hessian H:\")\n",
        "print(H)"
      ]
    }
  ]
}