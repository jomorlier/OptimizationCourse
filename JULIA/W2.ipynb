{
 "cells": [
  {
   "cell_type": "markdown",
   "metadata": {
    "nteract": {
     "transient": {
      "deleting": false
     }
    }
   },
   "source": [
    "Worksheet 2 Gradient and Hessian\n",
    "by Prof J.Morlier February 2020"
   ]
  },
  {
   "cell_type": "markdown",
   "metadata": {
    "nteract": {
     "transient": {
      "deleting": false
     }
    }
   },
   "source": [
    "#import Base.print_matrix\n",
    "#import Pkg; Pkg.add(\"SymPy\")"
   ]
  },
  {
   "cell_type": "code",
   "execution_count": 191,
   "metadata": {
    "collapsed": false,
    "execution": {
     "iopub.execute_input": "2020-03-20T16:27:32.676Z",
     "iopub.status.busy": "2020-03-20T16:27:32.671Z",
     "iopub.status.idle": "2020-03-20T16:27:32.685Z"
    },
    "jupyter": {
     "outputs_hidden": false,
     "source_hidden": false
    },
    "nteract": {
     "transient": {
      "deleting": false
     }
    }
   },
   "outputs": [],
   "source": [
    "using LinearAlgebra, SparseArrays, SuiteSparse, Random\n",
    "using SymPy\n",
    "import Base.print_matrix\n",
    "\n"
   ]
  },
  {
   "cell_type": "code",
   "execution_count": 192,
   "metadata": {},
   "outputs": [
    {
     "name": "stdout",
     "output_type": "stream",
     "text": [
      "Julia Version 1.3.1\n",
      "Commit 2d5741174c (2019-12-30 21:36 UTC)\n",
      "Platform Info:\n",
      "  OS: macOS (x86_64-apple-darwin18.6.0)\n",
      "  CPU: Intel(R) Core(TM) i5-8259U CPU @ 2.30GHz\n",
      "  WORD_SIZE: 64\n",
      "  LIBM: libopenlibm\n",
      "  LLVM: libLLVM-6.0.1 (ORCJIT, skylake)\n"
     ]
    }
   ],
   "source": [
    "versioninfo()"
   ]
  },
  {
   "cell_type": "markdown",
   "metadata": {},
   "source": [
    "#1"
   ]
  },
  {
   "cell_type": "markdown",
   "metadata": {
    "nteract": {
     "transient": {
      "deleting": false
     }
    }
   },
   "source": [
    "A 2x2 Recap"
   ]
  },
  {
   "cell_type": "code",
   "execution_count": 193,
   "metadata": {
    "collapsed": false,
    "execution": {
     "iopub.execute_input": "2020-03-20T16:27:32.696Z",
     "iopub.status.busy": "2020-03-20T16:27:32.692Z",
     "iopub.status.idle": "2020-03-20T16:27:32.706Z"
    },
    "jupyter": {
     "outputs_hidden": false,
     "source_hidden": false
    },
    "nteract": {
     "transient": {
      "deleting": false
     }
    }
   },
   "outputs": [
    {
     "data": {
      "text/plain": [
       "(x1, x2)"
      ]
     },
     "execution_count": 193,
     "metadata": {},
     "output_type": "execute_result"
    }
   ],
   "source": [
    "entries = @syms x1 x2  real=true\n"
   ]
  },
  {
   "cell_type": "code",
   "execution_count": 194,
   "metadata": {
    "collapsed": false,
    "execution": {
     "iopub.execute_input": "2020-03-20T16:27:32.718Z",
     "iopub.status.busy": "2020-03-20T16:27:32.713Z",
     "iopub.status.idle": "2020-03-20T16:27:32.727Z"
    },
    "jupyter": {
     "outputs_hidden": false,
     "source_hidden": false
    },
    "nteract": {
     "transient": {
      "deleting": false
     }
    }
   },
   "outputs": [
    {
     "data": {
      "text/latex": [
       "\\begin{equation*}2 x_{1}^{3} + 3 x_{1}^{2} x_{2} + 3 x_{2}^{2} - 24 x_{2}\\end{equation*}"
      ],
      "text/plain": [
       "    3       2          2        \n",
       "2⋅x₁  + 3⋅x₁ ⋅x₂ + 3⋅x₂  - 24⋅x₂"
      ]
     },
     "execution_count": 194,
     "metadata": {},
     "output_type": "execute_result"
    }
   ],
   "source": [
    "J=2*x1^3 +3*x2^2 +3*x2*x1^2 -24*x2\n"
   ]
  },
  {
   "cell_type": "markdown",
   "metadata": {},
   "source": [
    "Gradient computing"
   ]
  },
  {
   "cell_type": "code",
   "execution_count": 195,
   "metadata": {
    "collapsed": false,
    "execution": {
     "iopub.execute_input": "2020-03-20T16:27:32.739Z",
     "iopub.status.busy": "2020-03-20T16:27:32.734Z",
     "iopub.status.idle": "2020-03-20T16:27:32.750Z"
    },
    "jupyter": {
     "outputs_hidden": false,
     "source_hidden": false
    },
    "nteract": {
     "transient": {
      "deleting": false
     }
    }
   },
   "outputs": [
    {
     "data": {
      "text/latex": [
       "\\[ \\left[ \\begin{array}{r}6 x_{1}^{2} + 6 x_{1} x_{2}\\\\3 x_{1}^{2} + 6 x_{2} - 24\\end{array} \\right] \\]"
      ],
      "text/plain": [
       "2-element Array{Sym,1}:\n",
       "   6*x1^2 + 6*x1*x2\n",
       " 3*x1^2 + 6*x2 - 24"
      ]
     },
     "execution_count": 195,
     "metadata": {},
     "output_type": "execute_result"
    }
   ],
   "source": [
    "dJdx1=diff(J,x1)  ;\n",
    "\n",
    "dJdx2=diff(J,x2) ;\n",
    "\n",
    "dJ=[dJdx1; dJdx2]"
   ]
  },
  {
   "cell_type": "markdown",
   "metadata": {
    "nteract": {
     "transient": {
      "deleting": false
     }
    }
   },
   "source": [
    "Hessian computing"
   ]
  },
  {
   "cell_type": "code",
   "execution_count": 196,
   "metadata": {
    "collapsed": false,
    "execution": {
     "iopub.execute_input": "2020-03-20T16:27:32.761Z",
     "iopub.status.busy": "2020-03-20T16:27:32.757Z",
     "iopub.status.idle": "2020-03-20T16:27:32.771Z"
    },
    "jupyter": {
     "outputs_hidden": false,
     "source_hidden": false
    },
    "nteract": {
     "transient": {
      "deleting": false
     }
    }
   },
   "outputs": [],
   "source": [
    "Hdx11=diff(dJdx1,x1);"
   ]
  },
  {
   "cell_type": "code",
   "execution_count": 197,
   "metadata": {},
   "outputs": [],
   "source": [
    "Hdx12=diff(dJdx2,x1);"
   ]
  },
  {
   "cell_type": "code",
   "execution_count": 198,
   "metadata": {
    "collapsed": false,
    "execution": {
     "iopub.execute_input": "2020-03-20T16:27:32.780Z",
     "iopub.status.busy": "2020-03-20T16:27:32.777Z",
     "iopub.status.idle": "2020-03-20T16:27:32.789Z"
    },
    "jupyter": {
     "outputs_hidden": false,
     "source_hidden": false
    },
    "nteract": {
     "transient": {
      "deleting": false
     }
    }
   },
   "outputs": [],
   "source": [
    "Hdx21=diff(dJdx2,x1);"
   ]
  },
  {
   "cell_type": "code",
   "execution_count": 199,
   "metadata": {},
   "outputs": [],
   "source": [
    "Hdx22=diff(dJdx2,x2);"
   ]
  },
  {
   "cell_type": "code",
   "execution_count": 200,
   "metadata": {
    "collapsed": false,
    "execution": {
     "iopub.execute_input": "2020-03-20T16:27:32.800Z",
     "iopub.status.busy": "2020-03-20T16:27:32.795Z",
     "iopub.status.idle": "2020-03-20T16:27:32.841Z"
    },
    "jupyter": {
     "outputs_hidden": false,
     "source_hidden": false
    },
    "nteract": {
     "transient": {
      "deleting": false
     }
    }
   },
   "outputs": [
    {
     "data": {
      "text/latex": [
       "\\[\\left[ \\begin{array}{rr}12 x_{1} + 6 x_{2}&6 x_{1}\\\\6 x_{1}&6\\end{array}\\right]\\]"
      ],
      "text/plain": [
       "2×2 Array{Sym,2}:\n",
       " 12*x1 + 6*x2  6*x1\n",
       "         6*x1     6"
      ]
     },
     "execution_count": 200,
     "metadata": {},
     "output_type": "execute_result"
    }
   ],
   "source": [
    "H=[Hdx11 Hdx12; Hdx21 Hdx22]"
   ]
  },
  {
   "cell_type": "markdown",
   "metadata": {
    "execution": {
     "iopub.execute_input": "2020-03-20T16:27:32.850Z",
     "iopub.status.busy": "2020-03-20T16:27:32.847Z",
     "iopub.status.idle": "2020-03-20T16:27:32.856Z"
    },
    "jupyter": {
     "outputs_hidden": false,
     "source_hidden": false
    },
    "nteract": {
     "transient": {
      "deleting": false
     }
    }
   },
   "source": [
    "#2"
   ]
  },
  {
   "cell_type": "code",
   "execution_count": 202,
   "metadata": {
    "collapsed": false,
    "execution": {
     "iopub.execute_input": "2020-03-20T16:27:32.850Z",
     "iopub.status.busy": "2020-03-20T16:27:32.847Z",
     "iopub.status.idle": "2020-03-20T16:27:32.856Z"
    },
    "jupyter": {
     "outputs_hidden": false,
     "source_hidden": false
    },
    "nteract": {
     "transient": {
      "deleting": false
     }
    }
   },
   "outputs": [
    {
     "data": {
      "text/latex": [
       "\\begin{equation*}\\left(x_{2}^{2} - 1\\right)^{2} + \\left(x_{1}^{2} + x_{2}^{2} - 1\\right)^{2}\\end{equation*}"
      ],
      "text/plain": [
       "         2                  2\n",
       "⎛  2    ⎞    ⎛  2     2    ⎞ \n",
       "⎝x₂  - 1⎠  + ⎝x₁  + x₂  - 1⎠ "
      ]
     },
     "execution_count": 202,
     "metadata": {},
     "output_type": "execute_result"
    }
   ],
   "source": [
    "J=(x1^2 +x2^2 -1)^2 + (x2^2 -1)^2"
   ]
  },
  {
   "cell_type": "markdown",
   "metadata": {
    "nteract": {
     "transient": {
      "deleting": false
     }
    }
   },
   "source": []
  },
  {
   "cell_type": "code",
   "execution_count": 238,
   "metadata": {
    "collapsed": false,
    "execution": {
     "iopub.execute_input": "2020-03-20T16:27:32.864Z",
     "iopub.status.busy": "2020-03-20T16:27:32.860Z",
     "iopub.status.idle": "2020-03-20T16:27:32.871Z"
    },
    "jupyter": {
     "outputs_hidden": false,
     "source_hidden": false
    },
    "nteract": {
     "transient": {
      "deleting": false
     }
    }
   },
   "outputs": [
    {
     "data": {
      "text/plain": [
       "gradient2 (generic function with 1 method)"
      ]
     },
     "execution_count": 238,
     "metadata": {},
     "output_type": "execute_result"
    }
   ],
   "source": [
    "function gradient2(J,x1,x2)\n",
    "\n",
    "dJdx1=diff(J,x1)  ;\n",
    "\n",
    "dJdx2=diff(J,x2) ;\n",
    "dJ=[dJdx1; dJdx2]\n",
    "return dJ\n",
    "end"
   ]
  },
  {
   "cell_type": "code",
   "execution_count": 239,
   "metadata": {
    "nteract": {
     "transient": {
      "deleting": false
     }
    }
   },
   "outputs": [
    {
     "data": {
      "text/plain": [
       "hessian2 (generic function with 1 method)"
      ]
     },
     "execution_count": 239,
     "metadata": {},
     "output_type": "execute_result"
    }
   ],
   "source": [
    "function hessian2(dJ,x1,x2)\n",
    "    \n",
    "Hdx11=diff(dJ[1],x1);\n",
    "Hdx12=diff(dJ[1],x2);\n",
    "\n",
    "Hdx21=diff(dJ[2],x1);\n",
    "\n",
    "Hdx22=diff(dJ[2],x2);\n",
    "H=[Hdx11 Hdx12; Hdx21 Hdx22]\n",
    "return H\n",
    "end"
   ]
  },
  {
   "cell_type": "code",
   "execution_count": 240,
   "metadata": {
    "collapsed": false,
    "execution": {
     "iopub.execute_input": "2020-03-20T16:27:32.881Z",
     "iopub.status.busy": "2020-03-20T16:27:32.877Z",
     "iopub.status.idle": "2020-03-20T16:27:32.890Z"
    },
    "jupyter": {
     "outputs_hidden": false,
     "source_hidden": false
    },
    "nteract": {
     "transient": {
      "deleting": false
     }
    }
   },
   "outputs": [
    {
     "data": {
      "text/latex": [
       "\\[ \\left[ \\begin{array}{r}- \\frac{2 x_{1} \\left(x_{1} + x_{2}\\right)}{\\left(x_{1}^{2} + x_{2}^{2} + 1\\right)^{2}} + \\frac{1}{x_{1}^{2} + x_{2}^{2} + 1}\\\\- \\frac{2 x_{2} \\left(x_{1} + x_{2}\\right)}{\\left(x_{1}^{2} + x_{2}^{2} + 1\\right)^{2}} + \\frac{1}{x_{1}^{2} + x_{2}^{2} + 1}\\end{array} \\right] \\]"
      ],
      "text/plain": [
       "2-element Array{Sym,1}:\n",
       " -2*x1*(x1 + x2)/(x1^2 + x2^2 + 1)^2 + 1/(x1^2 + x2^2 + 1)\n",
       " -2*x2*(x1 + x2)/(x1^2 + x2^2 + 1)^2 + 1/(x1^2 + x2^2 + 1)"
      ]
     },
     "execution_count": 240,
     "metadata": {},
     "output_type": "execute_result"
    }
   ],
   "source": [
    "dJ=gradient2(J,x1,x2)"
   ]
  },
  {
   "cell_type": "code",
   "execution_count": 241,
   "metadata": {
    "collapsed": false,
    "execution": {
     "iopub.execute_input": "2020-03-20T16:27:32.896Z",
     "iopub.status.busy": "2020-03-20T16:27:32.894Z",
     "iopub.status.idle": "2020-03-20T16:27:32.904Z"
    },
    "jupyter": {
     "outputs_hidden": false,
     "source_hidden": false
    },
    "nteract": {
     "transient": {
      "deleting": false
     }
    }
   },
   "outputs": [
    {
     "data": {
      "text/latex": [
       "\\[\\left[ \\begin{array}{rr}\\frac{8 x_{1}^{2} \\left(x_{1} + x_{2}\\right)}{\\left(x_{1}^{2} + x_{2}^{2} + 1\\right)^{3}} - \\frac{4 x_{1}}{\\left(x_{1}^{2} + x_{2}^{2} + 1\\right)^{2}} - \\frac{2 \\left(x_{1} + x_{2}\\right)}{\\left(x_{1}^{2} + x_{2}^{2} + 1\\right)^{2}}&\\frac{8 x_{1} x_{2} \\left(x_{1} + x_{2}\\right)}{\\left(x_{1}^{2} + x_{2}^{2} + 1\\right)^{3}} - \\frac{2 x_{1}}{\\left(x_{1}^{2} + x_{2}^{2} + 1\\right)^{2}} - \\frac{2 x_{2}}{\\left(x_{1}^{2} + x_{2}^{2} + 1\\right)^{2}}\\\\\\frac{8 x_{1} x_{2} \\left(x_{1} + x_{2}\\right)}{\\left(x_{1}^{2} + x_{2}^{2} + 1\\right)^{3}} - \\frac{2 x_{1}}{\\left(x_{1}^{2} + x_{2}^{2} + 1\\right)^{2}} - \\frac{2 x_{2}}{\\left(x_{1}^{2} + x_{2}^{2} + 1\\right)^{2}}&\\frac{8 x_{2}^{2} \\left(x_{1} + x_{2}\\right)}{\\left(x_{1}^{2} + x_{2}^{2} + 1\\right)^{3}} - \\frac{4 x_{2}}{\\left(x_{1}^{2} + x_{2}^{2} + 1\\right)^{2}} - \\frac{2 \\left(x_{1} + x_{2}\\right)}{\\left(x_{1}^{2} + x_{2}^{2} + 1\\right)^{2}}\\end{array}\\right]\\]"
      ],
      "text/plain": [
       "2×2 Array{Sym,2}:\n",
       " 8*x1^2*(x1 + x2)/(x1^2 + x2^2 + 1)^3 - 4*x1/(x1^2 + x2^2 + 1)^2 - 2*(x1 + x2)/(x1^2 + x2^2 + 1)^2  …        8*x1*x2*(x1 + x2)/(x1^2 + x2^2 + 1)^3 - 2*x1/(x1^2 + x2^2 + 1)^2 - 2*x2/(x1^2 + x2^2 + 1)^2\n",
       "       8*x1*x2*(x1 + x2)/(x1^2 + x2^2 + 1)^3 - 2*x1/(x1^2 + x2^2 + 1)^2 - 2*x2/(x1^2 + x2^2 + 1)^2     8*x2^2*(x1 + x2)/(x1^2 + x2^2 + 1)^3 - 4*x2/(x1^2 + x2^2 + 1)^2 - 2*(x1 + x2)/(x1^2 + x2^2 + 1)^2"
      ]
     },
     "execution_count": 241,
     "metadata": {},
     "output_type": "execute_result"
    }
   ],
   "source": [
    "H=hessian2(dJ,x1,x2)"
   ]
  },
  {
   "cell_type": "code",
   "execution_count": 242,
   "metadata": {
    "collapsed": false,
    "execution": {
     "iopub.execute_input": "2020-03-20T16:27:32.911Z",
     "iopub.status.busy": "2020-03-20T16:27:32.908Z",
     "iopub.status.idle": "2020-03-20T16:27:32.916Z"
    },
    "jupyter": {
     "outputs_hidden": false,
     "source_hidden": false
    },
    "nteract": {
     "transient": {
      "deleting": false
     }
    }
   },
   "outputs": [],
   "source": [
    "#3"
   ]
  },
  {
   "cell_type": "code",
   "execution_count": 243,
   "metadata": {
    "collapsed": false,
    "execution": {
     "iopub.execute_input": "2020-03-20T16:27:32.911Z",
     "iopub.status.busy": "2020-03-20T16:27:32.908Z",
     "iopub.status.idle": "2020-03-20T16:27:32.916Z"
    },
    "jupyter": {
     "outputs_hidden": false,
     "source_hidden": false
    },
    "nteract": {
     "transient": {
      "deleting": false
     }
    }
   },
   "outputs": [
    {
     "data": {
      "text/latex": [
       "\\begin{equation*}4 x_{1}^{4} - 2 x_{1}^{2} + x_{1} x_{2}^{2}\\end{equation*}"
      ],
      "text/plain": [
       "    4       2        2\n",
       "4⋅x₁  - 2⋅x₁  + x₁⋅x₂ "
      ]
     },
     "execution_count": 243,
     "metadata": {},
     "output_type": "execute_result"
    }
   ],
   "source": [
    "J=-2*x1^2 +x1*x2^2 +4*x1^4 "
   ]
  },
  {
   "cell_type": "code",
   "execution_count": 244,
   "metadata": {
    "collapsed": false,
    "execution": {
     "iopub.execute_input": "2020-03-20T16:27:32.911Z",
     "iopub.status.busy": "2020-03-20T16:27:32.908Z",
     "iopub.status.idle": "2020-03-20T16:27:32.916Z"
    },
    "jupyter": {
     "outputs_hidden": false,
     "source_hidden": false
    },
    "nteract": {
     "transient": {
      "deleting": false
     }
    }
   },
   "outputs": [
    {
     "data": {
      "text/latex": [
       "\\[ \\left[ \\begin{array}{r}16 x_{1}^{3} - 4 x_{1} + x_{2}^{2}\\\\2 x_{1} x_{2}\\end{array} \\right] \\]"
      ],
      "text/plain": [
       "2-element Array{Sym,1}:\n",
       " 16*x1^3 - 4*x1 + x2^2\n",
       "               2*x1*x2"
      ]
     },
     "execution_count": 244,
     "metadata": {},
     "output_type": "execute_result"
    }
   ],
   "source": [
    "dJ=gradient2(J,x1,x2)"
   ]
  },
  {
   "cell_type": "code",
   "execution_count": 245,
   "metadata": {
    "collapsed": false,
    "execution": {
     "iopub.execute_input": "2020-03-20T16:27:32.911Z",
     "iopub.status.busy": "2020-03-20T16:27:32.908Z",
     "iopub.status.idle": "2020-03-20T16:27:32.916Z"
    },
    "jupyter": {
     "outputs_hidden": false,
     "source_hidden": false
    },
    "nteract": {
     "transient": {
      "deleting": false
     }
    }
   },
   "outputs": [
    {
     "data": {
      "text/latex": [
       "\\[\\left[ \\begin{array}{rr}48 x_{1}^{2} - 4&2 x_{2}\\\\2 x_{2}&2 x_{1}\\end{array}\\right]\\]"
      ],
      "text/plain": [
       "2×2 Array{Sym,2}:\n",
       " 48*x1^2 - 4  2*x2\n",
       "        2*x2  2*x1"
      ]
     },
     "execution_count": 245,
     "metadata": {},
     "output_type": "execute_result"
    }
   ],
   "source": [
    "H=hessian2(dJ,x1,x2)"
   ]
  },
  {
   "cell_type": "code",
   "execution_count": 246,
   "metadata": {
    "collapsed": false,
    "execution": {
     "iopub.execute_input": "2020-03-20T16:27:32.911Z",
     "iopub.status.busy": "2020-03-20T16:27:32.908Z",
     "iopub.status.idle": "2020-03-20T16:27:32.916Z"
    },
    "jupyter": {
     "outputs_hidden": false,
     "source_hidden": false
    },
    "nteract": {
     "transient": {
      "deleting": false
     }
    }
   },
   "outputs": [],
   "source": [
    "#4"
   ]
  },
  {
   "cell_type": "code",
   "execution_count": 247,
   "metadata": {
    "collapsed": false,
    "execution": {
     "iopub.execute_input": "2020-03-20T16:27:32.911Z",
     "iopub.status.busy": "2020-03-20T16:27:32.908Z",
     "iopub.status.idle": "2020-03-20T16:27:32.916Z"
    },
    "jupyter": {
     "outputs_hidden": false,
     "source_hidden": false
    },
    "nteract": {
     "transient": {
      "deleting": false
     }
    }
   },
   "outputs": [
    {
     "data": {
      "text/latex": [
       "\\begin{equation*}\\frac{x_{1} + x_{2}}{x_{1}^{2} + x_{2}^{2} + 1}\\end{equation*}"
      ],
      "text/plain": [
       "   x₁ + x₂   \n",
       "─────────────\n",
       "  2     2    \n",
       "x₁  + x₂  + 1"
      ]
     },
     "execution_count": 247,
     "metadata": {},
     "output_type": "execute_result"
    }
   ],
   "source": [
    "J=(x1+x2)/(x1^2 +x2^2 +1)"
   ]
  },
  {
   "cell_type": "code",
   "execution_count": 248,
   "metadata": {},
   "outputs": [
    {
     "data": {
      "text/latex": [
       "\\[ \\left[ \\begin{array}{r}- \\frac{2 x_{1} \\left(x_{1} + x_{2}\\right)}{\\left(x_{1}^{2} + x_{2}^{2} + 1\\right)^{2}} + \\frac{1}{x_{1}^{2} + x_{2}^{2} + 1}\\\\- \\frac{2 x_{2} \\left(x_{1} + x_{2}\\right)}{\\left(x_{1}^{2} + x_{2}^{2} + 1\\right)^{2}} + \\frac{1}{x_{1}^{2} + x_{2}^{2} + 1}\\end{array} \\right] \\]"
      ],
      "text/plain": [
       "2-element Array{Sym,1}:\n",
       " -2*x1*(x1 + x2)/(x1^2 + x2^2 + 1)^2 + 1/(x1^2 + x2^2 + 1)\n",
       " -2*x2*(x1 + x2)/(x1^2 + x2^2 + 1)^2 + 1/(x1^2 + x2^2 + 1)"
      ]
     },
     "execution_count": 248,
     "metadata": {},
     "output_type": "execute_result"
    }
   ],
   "source": [
    "dJ=gradient2(J,x1,x2)"
   ]
  },
  {
   "cell_type": "code",
   "execution_count": 249,
   "metadata": {},
   "outputs": [
    {
     "data": {
      "text/latex": [
       "\\[\\left[ \\begin{array}{rr}\\frac{8 x_{1}^{2} \\left(x_{1} + x_{2}\\right)}{\\left(x_{1}^{2} + x_{2}^{2} + 1\\right)^{3}} - \\frac{4 x_{1}}{\\left(x_{1}^{2} + x_{2}^{2} + 1\\right)^{2}} - \\frac{2 \\left(x_{1} + x_{2}\\right)}{\\left(x_{1}^{2} + x_{2}^{2} + 1\\right)^{2}}&\\frac{8 x_{1} x_{2} \\left(x_{1} + x_{2}\\right)}{\\left(x_{1}^{2} + x_{2}^{2} + 1\\right)^{3}} - \\frac{2 x_{1}}{\\left(x_{1}^{2} + x_{2}^{2} + 1\\right)^{2}} - \\frac{2 x_{2}}{\\left(x_{1}^{2} + x_{2}^{2} + 1\\right)^{2}}\\\\\\frac{8 x_{1} x_{2} \\left(x_{1} + x_{2}\\right)}{\\left(x_{1}^{2} + x_{2}^{2} + 1\\right)^{3}} - \\frac{2 x_{1}}{\\left(x_{1}^{2} + x_{2}^{2} + 1\\right)^{2}} - \\frac{2 x_{2}}{\\left(x_{1}^{2} + x_{2}^{2} + 1\\right)^{2}}&\\frac{8 x_{2}^{2} \\left(x_{1} + x_{2}\\right)}{\\left(x_{1}^{2} + x_{2}^{2} + 1\\right)^{3}} - \\frac{4 x_{2}}{\\left(x_{1}^{2} + x_{2}^{2} + 1\\right)^{2}} - \\frac{2 \\left(x_{1} + x_{2}\\right)}{\\left(x_{1}^{2} + x_{2}^{2} + 1\\right)^{2}}\\end{array}\\right]\\]"
      ],
      "text/plain": [
       "2×2 Array{Sym,2}:\n",
       " 8*x1^2*(x1 + x2)/(x1^2 + x2^2 + 1)^3 - 4*x1/(x1^2 + x2^2 + 1)^2 - 2*(x1 + x2)/(x1^2 + x2^2 + 1)^2  …        8*x1*x2*(x1 + x2)/(x1^2 + x2^2 + 1)^3 - 2*x1/(x1^2 + x2^2 + 1)^2 - 2*x2/(x1^2 + x2^2 + 1)^2\n",
       "       8*x1*x2*(x1 + x2)/(x1^2 + x2^2 + 1)^3 - 2*x1/(x1^2 + x2^2 + 1)^2 - 2*x2/(x1^2 + x2^2 + 1)^2     8*x2^2*(x1 + x2)/(x1^2 + x2^2 + 1)^3 - 4*x2/(x1^2 + x2^2 + 1)^2 - 2*(x1 + x2)/(x1^2 + x2^2 + 1)^2"
      ]
     },
     "execution_count": 249,
     "metadata": {},
     "output_type": "execute_result"
    }
   ],
   "source": [
    "H=hessian2(dJ,x1,x2)"
   ]
  },
  {
   "cell_type": "markdown",
   "metadata": {},
   "source": []
  }
 ],
 "metadata": {
  "kernel_info": {
   "name": "julia-1.1"
  },
  "kernelspec": {
   "display_name": "Julia 1.3.1",
   "language": "julia",
   "name": "julia-1.3"
  },
  "language_info": {
   "file_extension": ".jl",
   "mimetype": "application/julia",
   "name": "julia",
   "version": "1.3.1"
  },
  "nteract": {
   "version": "0.22.0"
  }
 },
 "nbformat": 4,
 "nbformat_minor": 4
}
